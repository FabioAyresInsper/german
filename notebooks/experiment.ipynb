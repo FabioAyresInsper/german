{
 "cells": [
  {
   "cell_type": "markdown",
   "metadata": {},
   "source": [
    "# Projeto german credit risk"
   ]
  },
  {
   "cell_type": "code",
   "execution_count": 2,
   "metadata": {},
   "outputs": [],
   "source": [
    "import requests\n",
    "import logging\n",
    "import zipfile\n",
    "import pandas as pd\n",
    "\n",
    "from pathlib import Path"
   ]
  },
  {
   "cell_type": "code",
   "execution_count": 3,
   "metadata": {},
   "outputs": [],
   "source": [
    "DATA_DIR = Path.cwd().parent / 'data'"
   ]
  },
  {
   "cell_type": "code",
   "execution_count": 4,
   "metadata": {},
   "outputs": [],
   "source": [
    "def load_data(data_dir: Path = DATA_DIR) -> pd.DataFrame:\n",
    "    pickle_file_path = data_dir / 'data.pkl'\n",
    "    if not pickle_file_path.exists():\n",
    "        data_dir.mkdir(parents=True, exist_ok=True)\n",
    "\n",
    "        url = 'https://archive.ics.uci.edu/static/public/144/statlog+german+credit+data.zip'\n",
    "        response = requests.get(url)\n",
    "        if response.status_code != 200:\n",
    "            logging.info('Failed to download dataset.')\n",
    "            return None\n",
    "\n",
    "        file_path = data_dir / 'data.zip'\n",
    "        with open(file_path, 'wb') as file:\n",
    "            file.write(response.content)\n",
    "        logging.info('Dataset downloaded successfully.')\n",
    "\n",
    "        with zipfile.ZipFile(file_path, 'r') as zip_ref:\n",
    "            zip_ref.extractall(path=data_dir)\n",
    "\n",
    "        columns = [\n",
    "            'status',\n",
    "            'duration',\n",
    "            'history',\n",
    "            'purpose',\n",
    "            'amount',\n",
    "            'savings',\n",
    "            'employment',\n",
    "            'installment',\n",
    "            'status_sex',\n",
    "            'guarantors',\n",
    "            'residence',\n",
    "            'property_type',\n",
    "            'age',\n",
    "            'plans',\n",
    "            'housing',\n",
    "            'credits',\n",
    "            'job',\n",
    "            'dependents',\n",
    "            'telephone',\n",
    "            'foreign',\n",
    "            'target',\n",
    "        ]\n",
    "        data = pd.read_csv(\n",
    "            data_dir / 'german.data',\n",
    "            sep=' ', \n",
    "            header=None, \n",
    "            names=columns,\n",
    "        )\n",
    "\n",
    "        data.to_pickle(pickle_file_path)\n",
    "    else:\n",
    "        data = pd.read_pickle(pickle_file_path)\n",
    "\n",
    "    return data"
   ]
  },
  {
   "cell_type": "code",
   "execution_count": 5,
   "metadata": {},
   "outputs": [],
   "source": [
    "data = load_data()"
   ]
  },
  {
   "cell_type": "code",
   "execution_count": null,
   "metadata": {},
   "outputs": [],
   "source": []
  }
 ],
 "metadata": {
  "kernelspec": {
   "display_name": "env",
   "language": "python",
   "name": "python3"
  },
  "language_info": {
   "codemirror_mode": {
    "name": "ipython",
    "version": 3
   },
   "file_extension": ".py",
   "mimetype": "text/x-python",
   "name": "python",
   "nbconvert_exporter": "python",
   "pygments_lexer": "ipython3",
   "version": "3.11.4"
  },
  "orig_nbformat": 4
 },
 "nbformat": 4,
 "nbformat_minor": 2
}
